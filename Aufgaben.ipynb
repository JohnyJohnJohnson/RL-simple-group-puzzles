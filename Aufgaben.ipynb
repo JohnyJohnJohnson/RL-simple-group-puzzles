{
 "cells": [
  {
   "cell_type": "code",
   "execution_count": 1,
   "metadata": {},
   "outputs": [
    {
     "name": "stdout",
     "output_type": "stream",
     "text": [
      "Requirement already satisfied: networkx in /home/jonathan/miniforge-pypy3/envs/myba/lib/python3.12/site-packages (from -r requirements.txt (line 1)) (3.3)\n",
      "Requirement already satisfied: torch in /home/jonathan/miniforge-pypy3/envs/myba/lib/python3.12/site-packages (from -r requirements.txt (line 2)) (2.3.0)\n",
      "Requirement already satisfied: tqdm in /home/jonathan/miniforge-pypy3/envs/myba/lib/python3.12/site-packages (from -r requirements.txt (line 3)) (4.66.2)\n",
      "Requirement already satisfied: matplotlib in /home/jonathan/miniforge-pypy3/envs/myba/lib/python3.12/site-packages (from -r requirements.txt (line 4)) (3.8.4)\n",
      "Requirement already satisfied: numpy in /home/jonathan/miniforge-pypy3/envs/myba/lib/python3.12/site-packages (from -r requirements.txt (line 5)) (1.26.4)\n",
      "Requirement already satisfied: filelock in /home/jonathan/miniforge-pypy3/envs/myba/lib/python3.12/site-packages (from torch->-r requirements.txt (line 2)) (3.14.0)\n",
      "Requirement already satisfied: typing-extensions>=4.8.0 in /home/jonathan/miniforge-pypy3/envs/myba/lib/python3.12/site-packages (from torch->-r requirements.txt (line 2)) (4.11.0)\n",
      "Requirement already satisfied: sympy in /home/jonathan/miniforge-pypy3/envs/myba/lib/python3.12/site-packages (from torch->-r requirements.txt (line 2)) (1.12)\n",
      "Requirement already satisfied: jinja2 in /home/jonathan/miniforge-pypy3/envs/myba/lib/python3.12/site-packages (from torch->-r requirements.txt (line 2)) (3.1.4)\n",
      "Requirement already satisfied: fsspec in /home/jonathan/miniforge-pypy3/envs/myba/lib/python3.12/site-packages (from torch->-r requirements.txt (line 2)) (2024.3.1)\n",
      "Requirement already satisfied: contourpy>=1.0.1 in /home/jonathan/miniforge-pypy3/envs/myba/lib/python3.12/site-packages (from matplotlib->-r requirements.txt (line 4)) (1.2.1)\n",
      "Requirement already satisfied: cycler>=0.10 in /home/jonathan/miniforge-pypy3/envs/myba/lib/python3.12/site-packages (from matplotlib->-r requirements.txt (line 4)) (0.12.1)\n",
      "Requirement already satisfied: fonttools>=4.22.0 in /home/jonathan/miniforge-pypy3/envs/myba/lib/python3.12/site-packages (from matplotlib->-r requirements.txt (line 4)) (4.51.0)\n",
      "Requirement already satisfied: kiwisolver>=1.3.1 in /home/jonathan/miniforge-pypy3/envs/myba/lib/python3.12/site-packages (from matplotlib->-r requirements.txt (line 4)) (1.4.5)\n",
      "Requirement already satisfied: packaging>=20.0 in /home/jonathan/miniforge-pypy3/envs/myba/lib/python3.12/site-packages (from matplotlib->-r requirements.txt (line 4)) (24.0)\n",
      "Requirement already satisfied: pillow>=8 in /home/jonathan/miniforge-pypy3/envs/myba/lib/python3.12/site-packages (from matplotlib->-r requirements.txt (line 4)) (10.3.0)\n",
      "Requirement already satisfied: pyparsing>=2.3.1 in /home/jonathan/miniforge-pypy3/envs/myba/lib/python3.12/site-packages (from matplotlib->-r requirements.txt (line 4)) (3.1.2)\n",
      "Requirement already satisfied: python-dateutil>=2.7 in /home/jonathan/miniforge-pypy3/envs/myba/lib/python3.12/site-packages (from matplotlib->-r requirements.txt (line 4)) (2.9.0)\n",
      "Requirement already satisfied: six>=1.5 in /home/jonathan/miniforge-pypy3/envs/myba/lib/python3.12/site-packages (from python-dateutil>=2.7->matplotlib->-r requirements.txt (line 4)) (1.16.0)\n",
      "Requirement already satisfied: MarkupSafe>=2.0 in /home/jonathan/miniforge-pypy3/envs/myba/lib/python3.12/site-packages (from jinja2->torch->-r requirements.txt (line 2)) (2.1.5)\n",
      "Requirement already satisfied: mpmath>=0.19 in /home/jonathan/miniforge-pypy3/envs/myba/lib/python3.12/site-packages (from sympy->torch->-r requirements.txt (line 2)) (1.3.0)\n"
     ]
    }
   ],
   "source": [
    "! pip install -r requirements.txt"
   ]
  },
  {
   "cell_type": "markdown",
   "metadata": {},
   "source": [
    "# Imports"
   ]
  },
  {
   "cell_type": "code",
   "execution_count": 1,
   "metadata": {},
   "outputs": [],
   "source": [
    "from MCTS import MCT\n",
    "from env import Env\n",
    "from modell import Net\n",
    "from tqdm import tqdm\n",
    "import matplotlib.pyplot as plt\n",
    "import matplotlib as mpl\n",
    "import pickle\n"
   ]
  },
  {
   "cell_type": "markdown",
   "metadata": {},
   "source": [
    "# Laden des Models"
   ]
  },
  {
   "cell_type": "code",
   "execution_count": 2,
   "metadata": {},
   "outputs": [
    {
     "data": {
      "text/plain": [
       "Net(\n",
       "  (body): Sequential(\n",
       "    (0): Linear(in_features=18, out_features=100, bias=True)\n",
       "    (1): ELU(alpha=1.0)\n",
       "    (2): Linear(in_features=100, out_features=50, bias=True)\n",
       "    (3): ELU(alpha=1.0)\n",
       "  )\n",
       "  (policy): Sequential(\n",
       "    (0): Linear(in_features=50, out_features=20, bias=True)\n",
       "    (1): ELU(alpha=1.0)\n",
       "    (2): Linear(in_features=20, out_features=4, bias=True)\n",
       "    (3): Softmax(dim=1)\n",
       "  )\n",
       "  (value): Sequential(\n",
       "    (0): Linear(in_features=50, out_features=30, bias=True)\n",
       "    (1): ELU(alpha=1.0)\n",
       "    (2): Linear(in_features=30, out_features=1, bias=True)\n",
       "  )\n",
       ")"
      ]
     },
     "execution_count": 2,
     "metadata": {},
     "output_type": "execute_result"
    }
   ],
   "source": [
    "name=\"trained_model\"\n",
    "path=f\"models/{name}.pkl\"\n",
    "\n",
    "with open(path,\"rb\") as f:\n",
    "    net=pickle.load(f)\n",
    "\n",
    "net"
   ]
  },
  {
   "cell_type": "markdown",
   "metadata": {},
   "source": [
    "# Nachvolziehen der Erweiterung\n",
    "\n",
    "\n",
    "für $b$=`policy_trust=2` und `c_param=0` vereinfacht sich die Wahl des nächsten knoten zu:\n",
    "\n",
    "$$\n",
    "A_t=\\text{argmax}_a \\ \\underbrace{W_{s_t}(a)+ 2 \\cdot P_{s_t}(a)}_{\\text{DEC}}\n",
    "$$"
   ]
  },
  {
   "cell_type": "code",
   "execution_count": 3,
   "metadata": {},
   "outputs": [],
   "source": [
    "\n",
    "k=5\n",
    "tree=MCT(modell=net,Env=Env,c_param=0,policy_trust=2,viLoss_param=0.0,k_scramble=k)"
   ]
  },
  {
   "cell_type": "markdown",
   "metadata": {},
   "source": [
    "Versuchen Sie den nächsten Knoten der erweitert wird Vorherzusagen."
   ]
  },
  {
   "cell_type": "code",
   "execution_count": 7,
   "metadata": {},
   "outputs": [],
   "source": [
    "%config InlineBackend.figure_formats = ['svg']\n",
    "mpl.use('WebAgg')\n",
    "plt.close()\n",
    "size_factor=3\n",
    "fontMultiplyer=3\n",
    "\n",
    "\n",
    "solved_state=tree.update()\n",
    "tree.display_tree(fontMultiplyer=fontMultiplyer,size_factor=size_factor)\n",
    "plt.show()\n",
    "\n",
    "if solved_state is not None:\n",
    "    print(\"Gefunden ! die Trainingsdaten währen:\\n\\n\")\n",
    "    display(solved_state.extract_train_data())\n",
    "    "
   ]
  }
 ],
 "metadata": {
  "kernelspec": {
   "display_name": "myba",
   "language": "python",
   "name": "python3"
  },
  "language_info": {
   "codemirror_mode": {
    "name": "ipython",
    "version": 3
   },
   "file_extension": ".py",
   "mimetype": "text/x-python",
   "name": "python",
   "nbconvert_exporter": "python",
   "pygments_lexer": "ipython3",
   "version": "3.12.2"
  }
 },
 "nbformat": 4,
 "nbformat_minor": 4
}
