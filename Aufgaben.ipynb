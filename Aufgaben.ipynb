{
 "cells": [
  {
   "cell_type": "code",
   "execution_count": null,
   "metadata": {},
   "outputs": [],
   "source": []
  },
  {
   "cell_type": "markdown",
   "metadata": {},
   "source": [
    "# Imports"
   ]
  },
  {
   "cell_type": "code",
   "execution_count": 1,
   "metadata": {},
   "outputs": [],
   "source": [
    "from MCTS import MCT\n",
    "from env import Env\n",
    "from modell import Net\n",
    "from tqdm import tqdm\n",
    "import matplotlib.pyplot as plt\n",
    "import matplotlib as mpl\n",
    "import os \n",
    "import pickle\n"
   ]
  },
  {
   "cell_type": "markdown",
   "metadata": {},
   "source": [
    "# Laden des Models"
   ]
  },
  {
   "cell_type": "code",
   "execution_count": 2,
   "metadata": {},
   "outputs": [
    {
     "data": {
      "text/plain": [
       "Net(\n",
       "  (body): Sequential(\n",
       "    (0): Linear(in_features=18, out_features=100, bias=True)\n",
       "    (1): ELU(alpha=1.0)\n",
       "    (2): Linear(in_features=100, out_features=50, bias=True)\n",
       "    (3): ELU(alpha=1.0)\n",
       "  )\n",
       "  (policy): Sequential(\n",
       "    (0): Linear(in_features=50, out_features=20, bias=True)\n",
       "    (1): ELU(alpha=1.0)\n",
       "    (2): Linear(in_features=20, out_features=4, bias=True)\n",
       "    (3): Softmax(dim=1)\n",
       "  )\n",
       "  (value): Sequential(\n",
       "    (0): Linear(in_features=50, out_features=30, bias=True)\n",
       "    (1): ELU(alpha=1.0)\n",
       "    (2): Linear(in_features=30, out_features=1, bias=True)\n",
       "  )\n",
       ")"
      ]
     },
     "execution_count": 2,
     "metadata": {},
     "output_type": "execute_result"
    }
   ],
   "source": [
    "name=\"trained_model\"\n",
    "path=f\"models/{name}.pkl\"\n",
    "\n",
    "with open(path,\"rb\") as f:\n",
    "    net=pickle.load(f)\n",
    "\n",
    "net"
   ]
  },
  {
   "cell_type": "markdown",
   "metadata": {},
   "source": [
    "# Nachvolziehen der Erweiterung\n",
    "\n",
    "\n",
    "für `policy_trust=2` und `c_param=0` vereinfacht sich die Wahl des nächsten knoten zu:\n",
    "\n",
    "$$\n",
    "A_t=\\text{argmax}_a \\ \\underbrace{W_{s_t}(a)+ 2 \\cdot P_{s_t}(a)}_{\\text{DEC}}\n",
    "$$"
   ]
  },
  {
   "cell_type": "code",
   "execution_count": 3,
   "metadata": {},
   "outputs": [],
   "source": [
    "\n",
    "k=5\n",
    "tree=MCT(modell=net,Env=Env,c_param=0,policy_trust=2,viLoss_param=0.0,k_scramble=k)"
   ]
  },
  {
   "cell_type": "code",
   "execution_count": 8,
   "metadata": {},
   "outputs": [],
   "source": [
    "%config InlineBackend.figure_formats = ['svg']\n",
    "mpl.use('WebAgg')\n",
    "plt.close()\n",
    "size_factor=5\n",
    "fontMultiplyer=5\n",
    "\n",
    "\n",
    "solved_state=tree.update()\n",
    "tree.display_tree(fontMultiplyer=fontMultiplyer,size_factor=size_factor)\n",
    "plt.show()"
   ]
  },
  {
   "cell_type": "code",
   "execution_count": null,
   "metadata": {},
   "outputs": [],
   "source": []
  }
 ],
 "metadata": {
  "kernelspec": {
   "display_name": "myba",
   "language": "python",
   "name": "myba"
  },
  "language_info": {
   "codemirror_mode": {
    "name": "ipython",
    "version": 3
   },
   "file_extension": ".py",
   "mimetype": "text/x-python",
   "name": "python",
   "nbconvert_exporter": "python",
   "pygments_lexer": "ipython3",
   "version": "3.12.2"
  }
 },
 "nbformat": 4,
 "nbformat_minor": 4
}
